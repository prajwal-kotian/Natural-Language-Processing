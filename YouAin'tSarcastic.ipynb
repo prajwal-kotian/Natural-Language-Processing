{
  "nbformat": 4,
  "nbformat_minor": 0,
  "metadata": {
    "colab": {
      "name": "YouAin'tSarcastic.ipynb",
      "provenance": [],
      "authorship_tag": "ABX9TyPPP7kYLK04/fPCHKXMTa2S",
      "include_colab_link": true
    },
    "kernelspec": {
      "name": "python3",
      "display_name": "Python 3"
    }
  },
  "cells": [
    {
      "cell_type": "markdown",
      "metadata": {
        "id": "view-in-github",
        "colab_type": "text"
      },
      "source": [
        "<a href=\"https://colab.research.google.com/github/prajwal-kotian/Natural-Language-Processing/blob/master/YouAin'tSarcastic.ipynb\" target=\"_parent\"><img src=\"https://colab.research.google.com/assets/colab-badge.svg\" alt=\"Open In Colab\"/></a>"
      ]
    },
    {
      "cell_type": "code",
      "metadata": {
        "id": "AKE-hnLx-ZRC",
        "colab_type": "code",
        "colab": {}
      },
      "source": [
        "!pip install -q sklearn"
      ],
      "execution_count": 0,
      "outputs": []
    },
    {
      "cell_type": "code",
      "metadata": {
        "id": "MKDKRo9G-x0U",
        "colab_type": "code",
        "colab": {}
      },
      "source": [
        "#import statements\n",
        "%tensorflow_version 2.x\n",
        "import tensorflow as tf\n",
        "from tensorflow import keras\n",
        "from tensorflow.keras.preprocessing.text import Tokenizer\n",
        "from tensorflow.keras.preprocessing.sequence import pad_sequences\n",
        "import numpy as np"
      ],
      "execution_count": 0,
      "outputs": []
    },
    {
      "cell_type": "code",
      "metadata": {
        "id": "rZ0T3y1smI8z",
        "colab_type": "code",
        "colab": {}
      },
      "source": [
        "# Keeping the Hyper parameters aside for tweeking the values in order to gain higer accuracy\n",
        "vocab_size = 10000\n",
        "oov_tok = '<new data>'\n",
        "max_len = 100\n",
        "pad_type = 'post'\n",
        "trunc_type = 'post'\n",
        "embed_dim = 16"
      ],
      "execution_count": 0,
      "outputs": []
    },
    {
      "cell_type": "code",
      "metadata": {
        "id": "q-mRykLX_N8r",
        "colab_type": "code",
        "outputId": "152a953d-b5e6-4a82-9d00-118bc3b81aa5",
        "colab": {
          "base_uri": "https://localhost:8080/",
          "height": 50
        }
      },
      "source": [
        "# importing data from the dataset and labelling it\n",
        "import json\n",
        "with open (\"Sarcasm_Headlines_Dataset.json\", 'r') as f:\n",
        "  users = [json.loads(line) for line in f]\n",
        "sentence = []\n",
        "label= []\n",
        "for item in users:\n",
        "  sentence.append(item['headline'])\n",
        "  label.append(item['is_sarcastic'])\n",
        "print(len(sentence))\n",
        "training_size = int(len(sentence)/2)\n",
        "print(training_size)\n"
      ],
      "execution_count": 0,
      "outputs": [
        {
          "output_type": "stream",
          "text": [
            "26709\n",
            "13354\n"
          ],
          "name": "stdout"
        }
      ]
    },
    {
      "cell_type": "code",
      "metadata": {
        "id": "Y5tnUAG3AbKe",
        "colab_type": "code",
        "colab": {}
      },
      "source": [
        "#dividing the data into test set and training set\n",
        "training_sentences = sentence[0:training_size]\n",
        "training_labels = np.array(label[0:training_size])\n",
        "test_sentences = sentence[training_size:26000]\n",
        "test_labels = np.array(label[training_size:26000])\n"
      ],
      "execution_count": 0,
      "outputs": []
    },
    {
      "cell_type": "code",
      "metadata": {
        "id": "kxcEWd1QHuBz",
        "colab_type": "code",
        "colab": {}
      },
      "source": [
        "#tokenizing the words in the traing and testing data\n",
        "token = Tokenizer(num_words= vocab_size, oov_token = oov_tok)\n",
        "token.fit_on_texts(training_sentences)\n",
        "training_sequence = np.array(pad_sequences(token.texts_to_sequences((training_sentences)), maxlen = max_len  , padding = pad_type, truncating = trunc_type))\n",
        "testing_sequence = np.array (pad_sequences(token.texts_to_sequences((test_sentences)), maxlen = max_len , padding = pad_type, truncating= trunc_type ))\n",
        "voc_size = training_sequence.max()+1"
      ],
      "execution_count": 0,
      "outputs": []
    },
    {
      "cell_type": "code",
      "metadata": {
        "id": "30KMQXOgQ8M7",
        "colab_type": "code",
        "colab": {}
      },
      "source": [
        "#creating a keras model\n",
        "model = tf.keras.Sequential([\n",
        "    tf.keras.layers.Embedding(voc_size, 64),\n",
        "    tf.keras.layers.Bidirectional(tf.keras.layers.LSTM(64, return_sequences=True)),\n",
        "    tf.keras.layers.Bidirectional(tf.keras.layers.LSTM(32)),\n",
        "    tf.keras.layers.Dense(64, activation='relu'),\n",
        "    tf.keras.layers.Dense(1, activation='sigmoid')\n",
        "])"
      ],
      "execution_count": 0,
      "outputs": []
    },
    {
      "cell_type": "code",
      "metadata": {
        "id": "-MzlDYS6SutB",
        "colab_type": "code",
        "outputId": "ed7e44fb-96f7-4a57-de56-b428c56b0fe7",
        "colab": {
          "base_uri": "https://localhost:8080/",
          "height": 202
        }
      },
      "source": [
        "#compiling the mode;\n",
        "model.compile(optimizer = 'adam' , loss = 'binary_crossentropy', metrics = ['accuracy'])\n",
        "history = model.fit(training_sequence , training_labels, epochs = 5,validation_data=(testing_sequence, test_labels), verbose=2 )\n",
        "result = model.evaluate(testing_sequence, test_labels)"
      ],
      "execution_count": 0,
      "outputs": [
        {
          "output_type": "stream",
          "text": [
            "Epoch 1/5\n",
            "418/418 - 91s - loss: 0.4197 - accuracy: 0.7941 - val_loss: 0.3372 - val_accuracy: 0.8470\n",
            "Epoch 2/5\n",
            "418/418 - 90s - loss: 0.1927 - accuracy: 0.9251 - val_loss: 0.3676 - val_accuracy: 0.8416\n",
            "Epoch 3/5\n",
            "418/418 - 90s - loss: 0.0947 - accuracy: 0.9665 - val_loss: 0.4796 - val_accuracy: 0.8369\n",
            "Epoch 4/5\n",
            "418/418 - 90s - loss: 0.0487 - accuracy: 0.9846 - val_loss: 0.5331 - val_accuracy: 0.8343\n",
            "Epoch 5/5\n",
            "418/418 - 90s - loss: 0.0260 - accuracy: 0.9915 - val_loss: 0.7803 - val_accuracy: 0.8245\n",
            "396/396 [==============================] - 16s 40ms/step - loss: 0.7803 - accuracy: 0.8245\n"
          ],
          "name": "stdout"
        }
      ]
    },
    {
      "cell_type": "code",
      "metadata": {
        "id": "wsNosM4jvwWe",
        "colab_type": "code",
        "outputId": "7690a9bf-4bc1-42e1-ce13-4cb8583fe309",
        "colab": {
          "base_uri": "https://localhost:8080/",
          "height": 87
        }
      },
      "source": [
        "#Reversing the tokens so we can read the sentences that are tokenized\n",
        "word_index = token.word_index\n",
        "reverse_word_index = dict([(value, key) for (key, value) in word_index.items()])\n",
        "\n",
        "def decode_sentence(text):\n",
        "    return ' '.join([reverse_word_index.get(i, '?') for i in text])\n",
        "\n",
        "print(decode_sentence(training_sequence[0]))\n",
        "print(training_sentences[0])\n",
        "print(training_labels[0])"
      ],
      "execution_count": 0,
      "outputs": [
        {
          "output_type": "stream",
          "text": [
            "former versace store clerk sues over secret 'black code' for minority shoppers ? ? ? ? ? ? ? ? ? ? ? ? ? ? ? ? ? ? ? ? ? ? ? ? ? ? ? ? ? ? ? ? ? ? ? ? ? ? ? ? ? ? ? ? ? ? ? ? ? ? ? ? ? ? ? ? ? ? ? ? ? ? ? ? ? ? ? ? ? ? ? ? ? ? ? ? ? ? ? ? ? ? ? ? ? ? ? ?\n",
            "former versace store clerk sues over secret 'black code' for minority shoppers\n",
            "0\n"
          ],
          "name": "stdout"
        }
      ]
    },
    {
      "cell_type": "code",
      "metadata": {
        "id": "aC8wV_Rp2b1A",
        "colab_type": "code",
        "outputId": "0b05af6d-16a1-4461-9e54-72c1f929e883",
        "colab": {
          "base_uri": "https://localhost:8080/",
          "height": 605
        }
      },
      "source": [
        "#plotting the accuracy of training data vs testing data\n",
        "import matplotlib.pyplot as plt\n",
        "def plot (history , string ):\n",
        "  plt.plot(history.history[string])\n",
        "  plt.plot(history.history['val_' + string])\n",
        "  plt.xlabel('Epochs')\n",
        "  plt.ylabel(string)\n",
        "  plt.legend(string ,'val_'+ string)\n",
        "  plt.show\n",
        "\n",
        "plot(history , 'accuracy')\n",
        "\n"
      ],
      "execution_count": 0,
      "outputs": [
        {
          "output_type": "stream",
          "text": [
            "/usr/local/lib/python3.6/dist-packages/ipykernel_launcher.py:7: UserWarning: The handle 'u' has a label of '_' which cannot be automatically added to the legend.\n",
            "  import sys\n",
            "/usr/local/lib/python3.6/dist-packages/ipykernel_launcher.py:7: UserWarning: Legend does not support 'a' instances.\n",
            "A proxy artist may be used instead.\n",
            "See: http://matplotlib.org/users/legend_guide.html#creating-artists-specifically-for-adding-to-the-legend-aka-proxy-artists\n",
            "  import sys\n",
            "/usr/local/lib/python3.6/dist-packages/ipykernel_launcher.py:7: UserWarning: Legend does not support 'c' instances.\n",
            "A proxy artist may be used instead.\n",
            "See: http://matplotlib.org/users/legend_guide.html#creating-artists-specifically-for-adding-to-the-legend-aka-proxy-artists\n",
            "  import sys\n",
            "/usr/local/lib/python3.6/dist-packages/ipykernel_launcher.py:7: UserWarning: Legend does not support 'r' instances.\n",
            "A proxy artist may be used instead.\n",
            "See: http://matplotlib.org/users/legend_guide.html#creating-artists-specifically-for-adding-to-the-legend-aka-proxy-artists\n",
            "  import sys\n",
            "/usr/local/lib/python3.6/dist-packages/ipykernel_launcher.py:7: UserWarning: Legend does not support 'y' instances.\n",
            "A proxy artist may be used instead.\n",
            "See: http://matplotlib.org/users/legend_guide.html#creating-artists-specifically-for-adding-to-the-legend-aka-proxy-artists\n",
            "  import sys\n"
          ],
          "name": "stderr"
        },
        {
          "output_type": "display_data",
          "data": {
            "image/png": "[encoded data removed]",
            "text/plain": [
              "<Figure size 432x288 with 1 Axes>"
            ]
          },
          "metadata": {
            "tags": [],
            "needs_background": "light"
          }
        }
      ]
    },
    {
      "cell_type": "code",
      "metadata": {
        "id": "F5hWSa1hCAim",
        "colab_type": "code",
        "outputId": "f70de278-abe2-4851-bdd5-ac3bc4b82cd0",
        "colab": {
          "base_uri": "https://localhost:8080/",
          "height": 534
        }
      },
      "source": [
        "#plotting the training vs testing loss\n",
        "plot(history, 'loss')"
      ],
      "execution_count": 0,
      "outputs": [
        {
          "output_type": "stream",
          "text": [
            "/usr/local/lib/python3.6/dist-packages/ipykernel_launcher.py:7: UserWarning: The handle 's' has a label of '_' which cannot be automatically added to the legend.\n",
            "  import sys\n",
            "/usr/local/lib/python3.6/dist-packages/ipykernel_launcher.py:7: UserWarning: Legend does not support 'l' instances.\n",
            "A proxy artist may be used instead.\n",
            "See: http://matplotlib.org/users/legend_guide.html#creating-artists-specifically-for-adding-to-the-legend-aka-proxy-artists\n",
            "  import sys\n",
            "/usr/local/lib/python3.6/dist-packages/ipykernel_launcher.py:7: UserWarning: Legend does not support 'o' instances.\n",
            "A proxy artist may be used instead.\n",
            "See: http://matplotlib.org/users/legend_guide.html#creating-artists-specifically-for-adding-to-the-legend-aka-proxy-artists\n",
            "  import sys\n",
            "/usr/local/lib/python3.6/dist-packages/ipykernel_launcher.py:7: UserWarning: Legend does not support 's' instances.\n",
            "A proxy artist may be used instead.\n",
            "See: http://matplotlib.org/users/legend_guide.html#creating-artists-specifically-for-adding-to-the-legend-aka-proxy-artists\n",
            "  import sys\n"
          ],
          "name": "stderr"
        },
        {
          "output_type": "display_data",
          "data": {
            "image/png": "[encoded data removed]",
            "text/plain": [
              "<Figure size 432x288 with 1 Axes>"
            ]
          },
          "metadata": {
            "tags": [],
            "needs_background": "light"
          }
        }
      ]
    },
    {
      "cell_type": "code",
      "metadata": {
        "id": "AhwecOWNu2CO",
        "colab_type": "code",
        "outputId": "d61e1e7e-f13c-42df-cefb-707f1f9071bf",
        "colab": {
          "base_uri": "https://localhost:8080/",
          "height": 34
        }
      },
      "source": [
        "# the next three blocks are to gain a vector diagram of the associative words\n",
        "e = model.layers[0]\n",
        "weight = e.get_weights()[0]\n",
        "print(weight.shape)"
      ],
      "execution_count": 0,
      "outputs": [
        {
          "output_type": "stream",
          "text": [
            "(10000, 64)\n"
          ],
          "name": "stdout"
        }
      ]
    },
    {
      "cell_type": "code",
      "metadata": {
        "id": "-V6N2GEW9KR4",
        "colab_type": "code",
        "colab": {}
      },
      "source": [
        "import io\n",
        "\n",
        "out_v = io.open('vec.tsv', 'w',encoding = 'utf8')\n",
        "out_m = io.open('meta.tsv', 'w',encoding = 'utf8')\n",
        "for word_num in range(1,voc_size):\n",
        "  word = reverse_word_index[word_num]\n",
        "  embedding = weight[word_num]\n",
        "  out_m.write(word + \"\\n\")\n",
        "  out_v.write('\\t'.join([str(x) for x in embedding]) + \"\\n\")\n",
        "out_v.close()\n",
        "out_m.close()"
      ],
      "execution_count": 0,
      "outputs": []
    },
    {
      "cell_type": "code",
      "metadata": {
        "id": "nNuAXTOA--97",
        "colab_type": "code",
        "colab": {}
      },
      "source": [
        "try:\n",
        "  from google.colab import files\n",
        "except ImportError:\n",
        "  pass\n",
        "else:\n",
        "  files.download('vec.tsv')\n",
        "  files.download('meta.tsv')"
      ],
      "execution_count": 0,
      "outputs": []
    },
    {
      "cell_type": "code",
      "metadata": {
        "id": "IWyKOwSuha3t",
        "colab_type": "code",
        "colab": {}
      },
      "source": [
        "# predictions\n",
        "i = int(input('Enter the serial number of the headline '))\n",
        "\n",
        "\n",
        "sent = [sentence[i]]\n",
        "print(sentence [i])\n",
        "print(label[i])\n",
        "sequences = token.texts_to_sequences(sent)\n",
        "padded = pad_sequences(sequences, maxlen=max_len, padding='post')\n",
        "\n",
        "predict = (model.predict(padded))\n",
        "if predict > 0.5:\n",
        "  print('Can I be more sarcastic?')\n",
        "else:\n",
        "  print ('That\\'s not how sarcasm works')\n",
        "\n",
        "\n",
        "\n",
        "\n",
        "\n"
      ],
      "execution_count": 0,
      "outputs": []
    }
  ]
}